{
 "cells": [
  {
   "cell_type": "code",
   "execution_count": 1,
   "metadata": {},
   "outputs": [
    {
     "data": {
      "text/plain": [
       "<module 'mlTest' from 'C:\\\\Users\\\\Chunlok Lo\\\\Documents\\\\cs4641\\\\supervised_learning\\\\implementation\\\\mlTest.py'>"
      ]
     },
     "execution_count": 1,
     "metadata": {},
     "output_type": "execute_result"
    }
   ],
   "source": [
    "import pandas as pd\n",
    "import numpy as np\n",
    "from sklearn import metrics, model_selection, ensemble, neighbors, svm\n",
    "import matplotlib.pyplot as plt\n",
    "\n",
    "import importlib\n",
    "import mlTest\n",
    "importlib.reload(mlTest)"
   ]
  },
  {
   "cell_type": "code",
   "execution_count": 24,
   "metadata": {},
   "outputs": [
    {
     "data": {
      "text/html": [
       "<div>\n",
       "<style scoped>\n",
       "    .dataframe tbody tr th:only-of-type {\n",
       "        vertical-align: middle;\n",
       "    }\n",
       "\n",
       "    .dataframe tbody tr th {\n",
       "        vertical-align: top;\n",
       "    }\n",
       "\n",
       "    .dataframe thead th {\n",
       "        text-align: right;\n",
       "    }\n",
       "</style>\n",
       "<table border=\"1\" class=\"dataframe\">\n",
       "  <thead>\n",
       "    <tr style=\"text-align: right;\">\n",
       "      <th></th>\n",
       "      <th>0</th>\n",
       "      <th>1</th>\n",
       "      <th>2</th>\n",
       "      <th>3</th>\n",
       "      <th>4</th>\n",
       "      <th>5</th>\n",
       "      <th>6</th>\n",
       "      <th>7</th>\n",
       "    </tr>\n",
       "  </thead>\n",
       "  <tbody>\n",
       "    <tr>\n",
       "      <th>count</th>\n",
       "      <td>2000.000000</td>\n",
       "      <td>2000.000000</td>\n",
       "      <td>2000.000000</td>\n",
       "      <td>2000.000000</td>\n",
       "      <td>2000.000000</td>\n",
       "      <td>2000.000000</td>\n",
       "      <td>2000.000000</td>\n",
       "      <td>2000.000000</td>\n",
       "    </tr>\n",
       "    <tr>\n",
       "      <th>mean</th>\n",
       "      <td>-52.330500</td>\n",
       "      <td>-55.623500</td>\n",
       "      <td>-54.964000</td>\n",
       "      <td>-53.566500</td>\n",
       "      <td>-62.640500</td>\n",
       "      <td>-80.985000</td>\n",
       "      <td>-81.726500</td>\n",
       "      <td>2.500000</td>\n",
       "    </tr>\n",
       "    <tr>\n",
       "      <th>std</th>\n",
       "      <td>11.321677</td>\n",
       "      <td>3.417688</td>\n",
       "      <td>5.316186</td>\n",
       "      <td>11.471982</td>\n",
       "      <td>9.105093</td>\n",
       "      <td>6.516672</td>\n",
       "      <td>6.519812</td>\n",
       "      <td>1.118314</td>\n",
       "    </tr>\n",
       "    <tr>\n",
       "      <th>min</th>\n",
       "      <td>-74.000000</td>\n",
       "      <td>-74.000000</td>\n",
       "      <td>-73.000000</td>\n",
       "      <td>-77.000000</td>\n",
       "      <td>-89.000000</td>\n",
       "      <td>-97.000000</td>\n",
       "      <td>-98.000000</td>\n",
       "      <td>1.000000</td>\n",
       "    </tr>\n",
       "    <tr>\n",
       "      <th>25%</th>\n",
       "      <td>-61.000000</td>\n",
       "      <td>-58.000000</td>\n",
       "      <td>-58.000000</td>\n",
       "      <td>-63.000000</td>\n",
       "      <td>-69.000000</td>\n",
       "      <td>-86.000000</td>\n",
       "      <td>-87.000000</td>\n",
       "      <td>1.750000</td>\n",
       "    </tr>\n",
       "    <tr>\n",
       "      <th>50%</th>\n",
       "      <td>-55.000000</td>\n",
       "      <td>-56.000000</td>\n",
       "      <td>-55.000000</td>\n",
       "      <td>-56.000000</td>\n",
       "      <td>-64.000000</td>\n",
       "      <td>-82.000000</td>\n",
       "      <td>-83.000000</td>\n",
       "      <td>2.500000</td>\n",
       "    </tr>\n",
       "    <tr>\n",
       "      <th>75%</th>\n",
       "      <td>-46.000000</td>\n",
       "      <td>-53.000000</td>\n",
       "      <td>-51.000000</td>\n",
       "      <td>-46.000000</td>\n",
       "      <td>-56.000000</td>\n",
       "      <td>-77.000000</td>\n",
       "      <td>-78.000000</td>\n",
       "      <td>3.250000</td>\n",
       "    </tr>\n",
       "    <tr>\n",
       "      <th>max</th>\n",
       "      <td>-10.000000</td>\n",
       "      <td>-45.000000</td>\n",
       "      <td>-40.000000</td>\n",
       "      <td>-11.000000</td>\n",
       "      <td>-36.000000</td>\n",
       "      <td>-61.000000</td>\n",
       "      <td>-63.000000</td>\n",
       "      <td>4.000000</td>\n",
       "    </tr>\n",
       "  </tbody>\n",
       "</table>\n",
       "</div>"
      ],
      "text/plain": [
       "                 0            1            2            3            4  \\\n",
       "count  2000.000000  2000.000000  2000.000000  2000.000000  2000.000000   \n",
       "mean    -52.330500   -55.623500   -54.964000   -53.566500   -62.640500   \n",
       "std      11.321677     3.417688     5.316186    11.471982     9.105093   \n",
       "min     -74.000000   -74.000000   -73.000000   -77.000000   -89.000000   \n",
       "25%     -61.000000   -58.000000   -58.000000   -63.000000   -69.000000   \n",
       "50%     -55.000000   -56.000000   -55.000000   -56.000000   -64.000000   \n",
       "75%     -46.000000   -53.000000   -51.000000   -46.000000   -56.000000   \n",
       "max     -10.000000   -45.000000   -40.000000   -11.000000   -36.000000   \n",
       "\n",
       "                 5            6            7  \n",
       "count  2000.000000  2000.000000  2000.000000  \n",
       "mean    -80.985000   -81.726500     2.500000  \n",
       "std       6.516672     6.519812     1.118314  \n",
       "min     -97.000000   -98.000000     1.000000  \n",
       "25%     -86.000000   -87.000000     1.750000  \n",
       "50%     -82.000000   -83.000000     2.500000  \n",
       "75%     -77.000000   -78.000000     3.250000  \n",
       "max     -61.000000   -63.000000     4.000000  "
      ]
     },
     "execution_count": 24,
     "metadata": {},
     "output_type": "execute_result"
    }
   ],
   "source": [
    "df_wifi = pd.read_csv(\"data/wifi_localization.txt\", header=None, sep='\\t')\n",
    "df_wifi.describe()"
   ]
  },
  {
   "cell_type": "code",
   "execution_count": 25,
   "metadata": {},
   "outputs": [],
   "source": [
    "X = df_wifi.drop(7, axis=1)\n",
    "y = df_bank[7]"
   ]
  },
  {
   "cell_type": "code",
   "execution_count": 26,
   "metadata": {},
   "outputs": [
    {
     "name": "stderr",
     "output_type": "stream",
     "text": [
      "C:\\Users\\Chunlok Lo\\AppData\\Local\\conda\\conda\\envs\\magiclearning\\lib\\site-packages\\sklearn\\model_selection\\_split.py:2179: FutureWarning: From version 0.21, test_size will always complement train_size unless both are specified.\n",
      "  FutureWarning)\n"
     ]
    }
   ],
   "source": [
    "def train_val_test_split(X, y, train_size=0.6, val_size=0.2, random_state=None):\n",
    "    train_val_size = train_size + val_size\n",
    "    X_train_val, X_test, y_train_val, y_test = model_selection.train_test_split(X, y, train_size=train_val_size, random_state=random_state)\n",
    "    X_train, X_val, y_train, y_val = model_selection.train_test_split(X_train_val, y_train_val, train_size=train_size/train_val_size, random_state=random_state)\n",
    "    return X_train, X_val, X_test, X_train_val, y_train, y_val, y_test, y_train_val\n",
    "X_train, X_val, X_test, X_train_val, y_train, y_val, y_test, y_train_val = train_val_test_split(X, y)"
   ]
  },
  {
   "cell_type": "code",
   "execution_count": 27,
   "metadata": {},
   "outputs": [
    {
     "data": {
      "text/plain": [
       "(1199, 7)"
      ]
     },
     "execution_count": 27,
     "metadata": {},
     "output_type": "execute_result"
    }
   ],
   "source": [
    "X_train.shape"
   ]
  },
  {
   "cell_type": "code",
   "execution_count": 28,
   "metadata": {},
   "outputs": [
    {
     "data": {
      "text/plain": [
       "(401, 7)"
      ]
     },
     "execution_count": 28,
     "metadata": {},
     "output_type": "execute_result"
    }
   ],
   "source": [
    "X_val.shape"
   ]
  },
  {
   "cell_type": "code",
   "execution_count": 29,
   "metadata": {},
   "outputs": [
    {
     "data": {
      "text/plain": [
       "(400, 7)"
      ]
     },
     "execution_count": 29,
     "metadata": {},
     "output_type": "execute_result"
    }
   ],
   "source": [
    "X_test.shape"
   ]
  },
  {
   "cell_type": "code",
   "execution_count": 30,
   "metadata": {},
   "outputs": [
    {
     "name": "stdout",
     "output_type": "stream",
     "text": [
      "Processing Param Val: 0.01989898989898989964\r"
     ]
    }
   ],
   "source": [
    "from sklearn.tree import DecisionTreeClassifier\n",
    "clf = DecisionTreeClassifier(random_state=0)\n",
    "def DTCTest(X_train, y_train, X_val=None, y_val=None, cross_val=True, folds=5):\n",
    "    train_acc = []\n",
    "    test_acc = []\n",
    "    param_vals = []\n",
    "    min_val = 0\n",
    "    max_val = 0.01\n",
    "    num_step = 100\n",
    "    for param_val in np.linspace(min_val, max_val, num=num_step):\n",
    "        print(\"Processing Param Val: {}\".format(param_val), end='\\r')\n",
    "        param_vals.append(param_val)\n",
    "        clf = DecisionTreeClassifier(random_state=0, min_impurity_decrease=param_val)\n",
    "        if cross_val:\n",
    "            cv_result = model_selection.cross_validate(clf, X_train, y_train, cv=folds, return_train_score=True)\n",
    "            #print(\"Time taken to cross validate: {}\".format(np.mean(cv_result['fit_time'])))\n",
    "            train_acc.append(np.mean(cv_result['train_score']))\n",
    "            test_acc.append(np.mean(cv_result['test_score']))\n",
    "        else:\n",
    "            train_acc.append(test_accuracy(clf, cX_train, cy_train))\n",
    "            test_acc.append(test_accuracy(clf, X_val, y_val))\n",
    "    return train_acc, test_acc, param_vals\n",
    "train_acc, test_acc, param_vals = DTCTest(X_train_val, y_train_val)"
   ]
  },
  {
   "cell_type": "code",
   "execution_count": 31,
   "metadata": {},
   "outputs": [
    {
     "data": {
      "image/png": "[encoded data removed]",
      "text/plain": [
       "<Figure size 432x288 with 1 Axes>"
      ]
     },
     "metadata": {
      "needs_background": "light"
     },
     "output_type": "display_data"
    }
   ],
   "source": [
    "def plot_accuracy(train_acc, test_acc, x_vals, detail=False):\n",
    "    plt.plot(x_vals, test_acc, label='test accuracy')\n",
    "    plt.plot(x_vals, train_acc, label='train accuracy')\n",
    "    if detail:\n",
    "        plt.xticks(x_vals)\n",
    "    plt.legend()\n",
    "    #plt.ylim(0, 1)\n",
    "    plt.show()\n",
    "plot_accuracy(train_acc, test_acc, param_vals)"
   ]
  },
  {
   "cell_type": "code",
   "execution_count": 33,
   "metadata": {},
   "outputs": [
    {
     "name": "stdout",
     "output_type": "stream",
     "text": [
      "Step 30: Processing Param Val: 30\r"
     ]
    },
    {
     "data": {
      "image/png": "[encoded data removed]",
      "text/plain": [
       "<Figure size 432x288 with 1 Axes>"
      ]
     },
     "metadata": {
      "needs_background": "light"
     },
     "output_type": "display_data"
    }
   ],
   "source": [
    "clf = neighbors.KNeighborsClassifier(n_neighbors=8)\n",
    "def KNNTest(X_train, y_train, X_val=None, y_val=None, cross_val=True, folds=5):\n",
    "    train_acc = []\n",
    "    test_acc = []\n",
    "    param_vals = []\n",
    "    min_val = 1\n",
    "    max_val = 30\n",
    "    num_step = 30\n",
    "    i = 0\n",
    "    for param_val in np.linspace(min_val, max_val, num=num_step):\n",
    "        i += 1\n",
    "        param_val = int(param_val)\n",
    "        \n",
    "        print(\"Step {}: Processing Param Val: {}\".format(i, param_val), end='\\r')\n",
    "        \n",
    "        param_vals.append(param_val)\n",
    "        clf = neighbors.KNeighborsClassifier(n_neighbors=param_val)\n",
    "        if cross_val:\n",
    "            cv_result = model_selection.cross_validate(clf, X_train, y_train, cv=folds, return_train_score=True)\n",
    "            #print(\"Time taken to cross validate: {}\".format(np.mean(cv_result['fit_time'])))\n",
    "            train_acc.append(np.mean(cv_result['train_score']))\n",
    "            test_acc.append(np.mean(cv_result['test_score']))\n",
    "        else:\n",
    "            train_acc.append(test_accuracy(clf, cX_train, cy_train))\n",
    "            test_acc.append(test_accuracy(clf, X_val, y_val))\n",
    "    return train_acc, test_acc, param_vals\n",
    "train_acc, test_acc, param_vals = KNNTest(X_train_val, y_train_val)\n",
    "plot_accuracy(train_acc, test_acc, param_vals, detail=True)"
   ]
  },
  {
   "cell_type": "code",
   "execution_count": 35,
   "metadata": {},
   "outputs": [
    {
     "name": "stdout",
     "output_type": "stream",
     "text": [
      "Step 50: Processing Param Val: 2.05918367551020433\r"
     ]
    },
    {
     "data": {
      "image/png": "[encoded data removed]",
      "text/plain": [
       "<Figure size 432x288 with 1 Axes>"
      ]
     },
     "metadata": {
      "needs_background": "light"
     },
     "output_type": "display_data"
    }
   ],
   "source": [
    "clf = svm.SVC()\n",
    "def SVCTest(X_train, y_train, X_val=None, y_val=None, cross_val=True, folds=5):\n",
    "    train_acc = []\n",
    "    test_acc = []\n",
    "    param_vals = []\n",
    "    min_val = .0000001\n",
    "    max_val = 2\n",
    "    num_step = 50\n",
    "    i = 0\n",
    "    for param_val in np.linspace(min_val, max_val, num=num_step):\n",
    "        i += 1\n",
    "        \n",
    "        print(\"Step {}: Processing Param Val: {}\".format(i, param_val), end='\\r')\n",
    "        \n",
    "        param_vals.append(param_val)\n",
    "        clf = svm.SVC(C=param_val, gamma='scale')\n",
    "        if cross_val:\n",
    "            cv_result = model_selection.cross_validate(clf, X_train, y_train, cv=folds, return_train_score=True)\n",
    "            #print(\"Time taken to cross validate: {}\".format(np.mean(cv_result['fit_time'])))\n",
    "            train_acc.append(np.mean(cv_result['train_score']))\n",
    "            test_acc.append(np.mean(cv_result['test_score']))\n",
    "        else:\n",
    "            train_acc.append(test_accuracy(clf, cX_train, cy_train))\n",
    "            test_acc.append(test_accuracy(clf, X_val, y_val))\n",
    "    return train_acc, test_acc, param_vals\n",
    "train_acc, test_acc, param_vals = SVCTest(X_train_val, y_train_val)\n",
    "plot_accuracy(train_acc, test_acc, param_vals, detail=True)"
   ]
  },
  {
   "cell_type": "code",
   "execution_count": null,
   "metadata": {},
   "outputs": [],
   "source": []
  }
 ],
 "metadata": {
  "kernelspec": {
   "display_name": "Python 3",
   "language": "python",
   "name": "python3"
  },
  "language_info": {
   "codemirror_mode": {
    "name": "ipython",
    "version": 3
   },
   "file_extension": ".py",
   "mimetype": "text/x-python",
   "name": "python",
   "nbconvert_exporter": "python",
   "pygments_lexer": "ipython3",
   "version": "3.6.7"
  }
 },
 "nbformat": 4,
 "nbformat_minor": 2
}
